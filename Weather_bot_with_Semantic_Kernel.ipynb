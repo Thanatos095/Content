{
  "nbformat": 4,
  "nbformat_minor": 0,
  "metadata": {
    "colab": {
      "provenance": []
    },
    "kernelspec": {
      "name": "python3",
      "display_name": "Python 3"
    },
    "language_info": {
      "name": "python"
    }
  },
  "cells": [
    {
      "cell_type": "markdown",
      "source": [
        "## Installing the dependencies"
      ],
      "metadata": {
        "id": "jGFJi-g6KoKB"
      }
    },
    {
      "cell_type": "code",
      "execution_count": null,
      "metadata": {
        "id": "fAi_LrLwFxT2"
      },
      "outputs": [],
      "source": [
        "!pip install semantic-kernel==0.3.1.dev0\n",
        "!pip install pyowm"
      ]
    },
    {
      "cell_type": "code",
      "source": [
        "import semantic_kernel as sk\n",
        "from semantic_kernel.connectors.ai.open_ai import AzureTextCompletion\n",
        "from semantic_kernel.planning.basic_planner import BasicPlanner\n",
        "from semantic_kernel.skill_definition import sk_function\n",
        "from pyowm import OWM\n",
        "from datetime import datetime, timedelta\n"
      ],
      "metadata": {
        "id": "A-Fth-v-GIHH"
      },
      "execution_count": 2,
      "outputs": []
    },
    {
      "cell_type": "markdown",
      "source": [
        "## Defining our native functions"
      ],
      "metadata": {
        "id": "NPNBDlFXKqtw"
      }
    },
    {
      "cell_type": "code",
      "source": [
        "class WeatherPlugin:\n",
        "    def __init__(self) -> None:\n",
        "        self.mgr = OWM(\"API_KEY\").weather_manager()\n",
        "\n",
        "    @sk_function(\n",
        "        description=\"Predict weather forecast only information from a given location\",\n",
        "        name=\"ForecastAtPlace\"\n",
        "    )\n",
        "    def get_weather_forecast(self, location : str) -> str:\n",
        "        forecast = self.mgr.forecast_at_place(location, '3h')\n",
        "        target_time = datetime.now() + timedelta(hours=6)\n",
        "        weather_at_target_time = forecast.get_weather_at(target_time)\n",
        "        temperature = weather_at_target_time.temperature('celsius'),\n",
        "        status = weather_at_target_time.detailed_status\n",
        "        rain = weather_at_target_time.rain\n",
        "        humidity = weather_at_target_time.humidity\n",
        "        ret = {\n",
        "            'location': location,\n",
        "            'current_time':datetime.now().strftime('%Y-%m-%d %H:%M:%S'),\n",
        "            'forecast_time': target_time.strftime('%Y-%m-%d %H:%M:%S'),\n",
        "            'temperature': temperature,\n",
        "            'status': status,\n",
        "            'rain': rain,\n",
        "            'humidity': humidity\n",
        "        }\n",
        "        return str(ret)\n",
        "\n",
        "    @sk_function(\n",
        "        description=\"Generate current weather information only from a given location[NOT FORECASTS]. The returned information includes a detailed status, wind, humidity, temperature in celcius, rain, and clouds\",\n",
        "        name=\"WeatherAtPlace\"\n",
        "    )\n",
        "    def weather_at_place(self, location: str) -> str:\n",
        "        observation = self.mgr.weather_at_place(location)\n",
        "        w = observation.weather\n",
        "        ret = {\n",
        "            'current_time' : datetime.now().strftime('%Y-%m-%d %H:%M:%S'),\n",
        "            'detailed_status' : w.detailed_status,\n",
        "            'wind' : w.wind(),\n",
        "            'humidity' : w.humidity,\n",
        "            'temperature' : w.temperature('celsius'),\n",
        "            'rain' : w.rain,\n",
        "            'heat_index' : w.heat_index,\n",
        "            'clouds' : w.clouds\n",
        "        }\n",
        "        return str(ret)"
      ],
      "metadata": {
        "id": "SMuKwLTlH-OZ"
      },
      "execution_count": 3,
      "outputs": []
    },
    {
      "cell_type": "markdown",
      "source": [
        "## Initializing the Kernel with Text Davinci as our completion service."
      ],
      "metadata": {
        "id": "oFK-9CygKstS"
      }
    },
    {
      "cell_type": "code",
      "source": [
        "kernel = sk.Kernel()\n",
        "planner = BasicPlanner()\n",
        "\n",
        "# ENV VARIABLES\n",
        "# AZURE_OPENAI_DEPLOYMENT_NAME=\"Text-Davinci\"\n",
        "# AZURE_OPENAI_ENDPOINT=\"<ENDPOINT>\"\n",
        "# AZURE_OPENAI_API_KEY=\"<API_KEY>\"\n",
        "\n",
        "deployment, api_key, endpoint = sk.azure_openai_settings_from_dot_env()\n",
        "kernel.add_text_completion_service(\"dv\", AzureTextCompletion(deployment, endpoint, api_key))\n",
        "\n",
        "kernel.import_skill(WeatherPlugin(), skill_name=\"WeatherPlugin\")"
      ],
      "metadata": {
        "id": "hEp2GoFdIHgB"
      },
      "execution_count": 6,
      "outputs": []
    },
    {
      "cell_type": "markdown",
      "source": [
        "## Making our semantic functions."
      ],
      "metadata": {
        "id": "LX8tW3F9K54B"
      }
    },
    {
      "cell_type": "code",
      "source": [
        "WeatherReporter = kernel.create_semantic_function(\n",
        "    \"\"\"You are a weather reporter. you will receive the weather data as json, and you will tell it to your viewers in a concise, catchy and jolly manner. mention times if present in data.\n",
        "----------------------\n",
        "{{$input}}\n",
        "\"\"\",\n",
        "    description=\"Receives weather data as json, and converts it to human readable form.\",\n",
        "    skill_name=\"WeatherReporter\",\n",
        "    max_tokens=1000,\n",
        "    temperature=0.3,\n",
        "    top_p=0.5)\n",
        "\n",
        "WeatherForecaster = kernel.create_semantic_function(\n",
        "    \"\"\"You are a weather reporter who reports forecasts. you will receive the weather forecasts as json, and you will tell it to your viewers in a concise, catchy and jolly manner. make sure to mention that it is a forecast, and mention times if present in data.\n",
        "----------------------\n",
        "{{$input}}\n",
        "\"\"\",\n",
        "    description=\"Receives weather forecast information as json, and converts it to human readable form.\",\n",
        "    skill_name=\"WeatherForecaster\",\n",
        "    max_tokens=1000,\n",
        "    temperature=0.3,\n",
        "    top_p=0.5)"
      ],
      "metadata": {
        "id": "NA6nC-p6K1pO"
      },
      "execution_count": null,
      "outputs": []
    },
    {
      "cell_type": "markdown",
      "source": [
        "## Generating a plan for current weather in New York"
      ],
      "metadata": {
        "id": "U-9TVtvCK8oi"
      }
    },
    {
      "cell_type": "code",
      "source": [
        "ask = \"What is it like in New York?\"\n",
        "plan = await planner.create_plan_async(ask, kernel) # This only works in a notebook. use asyncio.run in a local python environment\n",
        "print(plan.generated_plan)"
      ],
      "metadata": {
        "colab": {
          "base_uri": "https://localhost:8080/"
        },
        "id": "j79NRYhhIMJZ",
        "outputId": "9f8e0f78-f9cb-4c5a-b805-6233da8d277a"
      },
      "execution_count": 13,
      "outputs": [
        {
          "output_type": "stream",
          "name": "stdout",
          "text": [
            "    {\n",
            "        \"input\": \"New York\",\n",
            "        \"subtasks\": [\n",
            "            {\"function\": \"WeatherPlugin.WeatherAtPlace\"},\n",
            "            {\"function\": \"WeatherReporter.f_afe25724_d54d_4af9_93cb_dbf0c7f1e625\"}\n",
            "        ]\n",
            "    }\n"
          ]
        }
      ]
    },
    {
      "cell_type": "code",
      "source": [
        "out = await planner.execute_plan_async(plan, kernel)\n",
        "print(out)"
      ],
      "metadata": {
        "colab": {
          "base_uri": "https://localhost:8080/"
        },
        "id": "uPYQveTKI5dA",
        "outputId": "d8a8945b-6e38-4b02-fa15-d66f6a1e156b"
      },
      "execution_count": 15,
      "outputs": [
        {
          "output_type": "stream",
          "name": "stdout",
          "text": [
            "\n",
            "Good morning everyone! It's 7:23 am on this beautiful Wednesday morning and the weather is looking a bit overcast. The temperature is a pleasant 21.68 degrees Celsius with a maximum of 22.79 and a minimum of 20.08. The humidity is 81% and the wind is blowing at 3.13 km/h with gusts of up to 5.36 km/h. The sky is completely covered in clouds, so don't forget your umbrella if you're heading out!\n"
          ]
        }
      ]
    },
    {
      "cell_type": "markdown",
      "source": [
        "## Making a plan for forecast in Lahore"
      ],
      "metadata": {
        "id": "ABzFWfHlLBDI"
      }
    },
    {
      "cell_type": "code",
      "source": [
        "ask = \"What is the forecast prediction for Lahore?\"\n",
        "plan = await planner.create_plan_async(ask, kernel) # This only works in a notebook. use asyncio.run in a local python environment\n",
        "print(plan.generated_plan)"
      ],
      "metadata": {
        "colab": {
          "base_uri": "https://localhost:8080/"
        },
        "id": "5x5z_JslKMww",
        "outputId": "9a657318-cba2-4203-e4b7-507b70434e5e"
      },
      "execution_count": 18,
      "outputs": [
        {
          "output_type": "stream",
          "name": "stdout",
          "text": [
            "    {\n",
            "        \"input\": \"Lahore\",\n",
            "        \"subtasks\": [\n",
            "            {\"function\": \"WeatherPlugin.ForecastAtPlace\"},\n",
            "            {\"function\": \"WeatherForecaster.f_2ee3a48b_69f0_4d75_b046_e2b6339f15fc\"}\n",
            "        ]\n",
            "    }\n"
          ]
        }
      ]
    },
    {
      "cell_type": "code",
      "source": [
        "out = await planner.execute_plan_async(plan, kernel)\n",
        "print(out)"
      ],
      "metadata": {
        "colab": {
          "base_uri": "https://localhost:8080/"
        },
        "id": "21q1d1mxKboy",
        "outputId": "a9904b86-38a8-463e-e074-d2a48ed5ea80"
      },
      "execution_count": 19,
      "outputs": [
        {
          "output_type": "stream",
          "name": "stdout",
          "text": [
            "\n",
            "Good morning, Lahore! It's currently 7:26 AM and the forecast for 1:26 PM is sunny with a high of 39 degrees Celsius and a low of 37 degrees Celsius. It will feel like 44 degrees Celsius and the humidity will be 46%. Enjoy your day!\n"
          ]
        }
      ]
    }
  ]
}
